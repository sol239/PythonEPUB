{
 "cells": [
  {
   "metadata": {
    "ExecuteTime": {
     "end_time": "2024-09-28T21:57:48.959243Z",
     "start_time": "2024-09-28T21:57:48.955373Z"
    }
   },
   "cell_type": "code",
   "source": [
    "from ebook import Ebook   \n",
    "import os"
   ],
   "id": "38e1d6ba28f21b3d",
   "outputs": [],
   "execution_count": 29
  },
  {
   "metadata": {
    "ExecuteTime": {
     "end_time": "2024-09-28T21:57:48.996922Z",
     "start_time": "2024-09-28T21:57:48.967413Z"
    }
   },
   "cell_type": "code",
   "source": [
    "ebook = Ebook(\"epub samples/sample2.epub\")\n",
    "ebook.delete_archive()"
   ],
   "id": "e0e372fca33f53b",
   "outputs": [],
   "execution_count": 30
  },
  {
   "metadata": {
    "ExecuteTime": {
     "end_time": "2024-09-28T21:57:49.007144Z",
     "start_time": "2024-09-28T21:57:49.002509Z"
    }
   },
   "cell_type": "code",
   "source": "ebook.print_ebook_object()",
   "id": "70889bab15b04556",
   "outputs": [
    {
     "name": "stdout",
     "output_type": "stream",
     "text": [
      "Found:\n",
      " - title: White Fang\n",
      " - author: Jack London\n",
      " - language: en\n",
      " - format: epub\n",
      " - filename: sample2.epub\n",
      " - book_status: Public domain in the USA.\n",
      " - ebook_folder_path: C:\\Users\\david_dyn8g78\\PycharmProjects\\PythonEPUB\\demo/temp\n",
      " - ebook_data_folder_path: C:\\Users\\david_dyn8g78\\PycharmProjects\\PythonEPUB\\demo/tempDATA\n",
      " - container_file_path: C:\\Users\\david_dyn8g78\\PycharmProjects\\PythonEPUB\\demo/temp\\META-INF\\container.xml\n",
      " - content_file_path: C:\\Users\\david_dyn8g78\\PycharmProjects\\PythonEPUB\\demo/temp\\OEBPS/content.opf\n",
      " - cover_image_path: C:\\Users\\david_dyn8g78\\PycharmProjects\\PythonEPUB\\demo/temp\\5405372351310475893_cover.jpg\n",
      "\n",
      "Not Found:\n",
      " - publisher\n",
      " - description\n",
      " - book_position\n",
      " - book_open_time\n",
      " - book_close_time\n",
      " - book_read_time\n",
      " - StatRecord1\n",
      " - StatRecord2\n",
      " - navigation_data\n",
      " - json_data_file_path\n",
      " - navis_file_path\n"
     ]
    }
   ],
   "execution_count": 31
  },
  {
   "metadata": {
    "ExecuteTime": {
     "end_time": "2024-09-28T21:57:49.085668Z",
     "start_time": "2024-09-28T21:57:49.082575Z"
    }
   },
   "cell_type": "code",
   "source": "print(os.getcwd())",
   "id": "b8a8f7576bf98ca3",
   "outputs": [
    {
     "name": "stdout",
     "output_type": "stream",
     "text": [
      "C:\\Users\\david_dyn8g78\\PycharmProjects\\PythonEPUB\\demo\n"
     ]
    }
   ],
   "execution_count": 32
  }
 ],
 "metadata": {
  "kernelspec": {
   "display_name": "Python 3",
   "language": "python",
   "name": "python3"
  },
  "language_info": {
   "codemirror_mode": {
    "name": "ipython",
    "version": 2
   },
   "file_extension": ".py",
   "mimetype": "text/x-python",
   "name": "python",
   "nbconvert_exporter": "python",
   "pygments_lexer": "ipython2",
   "version": "2.7.6"
  }
 },
 "nbformat": 4,
 "nbformat_minor": 5
}
