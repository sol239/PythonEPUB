{
 "cells": [
  {
   "metadata": {},
   "cell_type": "code",
   "source": [
    "from ebook import Ebook   \n",
    "import os"
   ],
   "id": "38e1d6ba28f21b3d",
   "outputs": [],
   "execution_count": null
  },
  {
   "metadata": {},
   "cell_type": "code",
   "source": [
    "ebook = Ebook(\"epub samples/sample2.epub\")\n",
    "ebook.delete_archive()"
   ],
   "id": "e0e372fca33f53b",
   "outputs": [],
   "execution_count": null
  },
  {
   "metadata": {},
   "cell_type": "code",
   "source": "ebook.print_ebook_object()",
   "id": "70889bab15b04556",
   "outputs": [],
   "execution_count": null
  },
  {
   "metadata": {},
   "cell_type": "code",
   "source": "print(os.getcwd())",
   "id": "b8a8f7576bf98ca3",
   "outputs": [],
   "execution_count": null
  }
 ],
 "metadata": {
  "kernelspec": {
   "display_name": "Python 3 (ipykernel)",
   "language": "python",
   "name": "python3"
  },
  "language_info": {
   "codemirror_mode": {
    "name": "ipython",
    "version": 2
   },
   "file_extension": ".py",
   "mimetype": "text/x-python",
   "name": "python",
   "nbconvert_exporter": "python",
   "pygments_lexer": "ipython2",
   "version": "2.7.6"
  }
 },
 "nbformat": 4,
 "nbformat_minor": 5
}
