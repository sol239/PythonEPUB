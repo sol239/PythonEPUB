{
 "cells": [
  {
   "metadata": {
    "ExecuteTime": {
     "end_time": "2024-11-07T14:02:56.575543Z",
     "start_time": "2024-11-07T14:02:56.561946Z"
    }
   },
   "cell_type": "code",
   "source": [
    "from epub_handler import Ebook   \n",
    "from epub_serializer import serialize"
   ],
   "id": "38e1d6ba28f21b3d",
   "outputs": [],
   "execution_count": 36
  },
  {
   "metadata": {
    "ExecuteTime": {
     "end_time": "2024-11-07T14:02:56.648757Z",
     "start_time": "2024-11-07T14:02:56.577053Z"
    }
   },
   "cell_type": "code",
   "source": [
    "ebook = Ebook(\"epub samples/sample1.epub\")\n",
    "ebook.delete_archive()"
   ],
   "id": "e0e372fca33f53b",
   "outputs": [
    {
     "name": "stdout",
     "output_type": "stream",
     "text": [
      "Manifest found\n"
     ]
    }
   ],
   "execution_count": 37
  },
  {
   "metadata": {
    "ExecuteTime": {
     "end_time": "2024-11-07T14:02:56.743579Z",
     "start_time": "2024-11-07T14:02:56.735216Z"
    }
   },
   "cell_type": "code",
   "source": "vars(ebook)",
   "id": "7c37134e82130865",
   "outputs": [
    {
     "data": {
      "text/plain": [
       "{'title': 'Twenty Thousand Leagues Under the Seas: An Underwater Tour of the World',\n",
       " 'author': 'Jules Verne',\n",
       " 'language': 'en',\n",
       " 'publisher': '',\n",
       " 'description': '',\n",
       " 'format': 'epub',\n",
       " 'filename': 'sample1.epub',\n",
       " 'book_position': '',\n",
       " 'book_open_time': '',\n",
       " 'book_close_time': '',\n",
       " 'book_read_time': '',\n",
       " 'book_status': 'Copyrighted. Read the copyright notice inside this book for details.',\n",
       " 'StatRecord1': {},\n",
       " 'StatRecord2': {},\n",
       " 'navigation_data': {'id-4755444834398879817': '3388843439980103376_cover.jpg',\n",
       "  0: 'C:\\\\Users\\\\david_dyn8g78\\\\PycharmProjects\\\\PythonEPUB\\\\demo/temp\\\\3388843439980103376_cover.jpg',\n",
       "  'id-545216023831701403': '3388843439980103376_portrait_by_bertrand.jpg',\n",
       "  1: 'C:\\\\Users\\\\david_dyn8g78\\\\PycharmProjects\\\\PythonEPUB\\\\demo/temp\\\\3388843439980103376_portrait_by_bertrand.jpg',\n",
       "  'id-1597760694833143741': '3388843439980103376_ned_land_stayed_at_his_post.jpg',\n",
       "  2: 'C:\\\\Users\\\\david_dyn8g78\\\\PycharmProjects\\\\PythonEPUB\\\\demo/temp\\\\3388843439980103376_ned_land_stayed_at_his_post.jpg',\n",
       "  'id-7819554548645112870': '3388843439980103376_ive_collected_every_one_of_them.jpg',\n",
       "  3: 'C:\\\\Users\\\\david_dyn8g78\\\\PycharmProjects\\\\PythonEPUB\\\\demo/temp\\\\3388843439980103376_ive_collected_every_one_of_them.jpg',\n",
       "  'id-5708237980447882237': '3388843439980103376_we_walked_with_steady_steps.jpg',\n",
       "  4: 'C:\\\\Users\\\\david_dyn8g78\\\\PycharmProjects\\\\PythonEPUB\\\\demo/temp\\\\3388843439980103376_we_walked_with_steady_steps.jpg',\n",
       "  'id-3674060749913333287': '3388843439980103376_the_dugout_canoes_drew_nearer.jpg',\n",
       "  5: 'C:\\\\Users\\\\david_dyn8g78\\\\PycharmProjects\\\\PythonEPUB\\\\demo/temp\\\\3388843439980103376_the_dugout_canoes_drew_nearer.jpg',\n",
       "  'id-7443571070203172316': '3388843439980103376_a_dreadful_battle_was_joined.jpg',\n",
       "  6: 'C:\\\\Users\\\\david_dyn8g78\\\\PycharmProjects\\\\PythonEPUB\\\\demo/temp\\\\3388843439980103376_a_dreadful_battle_was_joined.jpg',\n",
       "  'id-6772777100103817716': '3388843439980103376_the_bay_of_vigo.jpg',\n",
       "  7: 'C:\\\\Users\\\\david_dyn8g78\\\\PycharmProjects\\\\PythonEPUB\\\\demo/temp\\\\3388843439980103376_the_bay_of_vigo.jpg',\n",
       "  'id-2259672157494556075': '3388843439980103376_picturesque_ruins_took_shape.jpg',\n",
       "  8: 'C:\\\\Users\\\\david_dyn8g78\\\\PycharmProjects\\\\PythonEPUB\\\\demo/temp\\\\3388843439980103376_picturesque_ruins_took_shape.jpg',\n",
       "  'id-9041443163246347217': '3388843439980103376_farewell_o_sun_he_called.jpg',\n",
       "  9: 'C:\\\\Users\\\\david_dyn8g78\\\\PycharmProjects\\\\PythonEPUB\\\\demo/temp\\\\3388843439980103376_farewell_o_sun_he_called.jpg',\n",
       "  'id-6528399466404756187': '3388843439980103376_the_poor_fellow_was_done_for.jpg',\n",
       "  10: 'C:\\\\Users\\\\david_dyn8g78\\\\PycharmProjects\\\\PythonEPUB\\\\demo/temp\\\\3388843439980103376_the_poor_fellow_was_done_for.jpg',\n",
       "  'item1': 'pgepub.css',\n",
       "  11: 'C:\\\\Users\\\\david_dyn8g78\\\\PycharmProjects\\\\PythonEPUB\\\\demo/temp\\\\pgepub.css',\n",
       "  'item2': '0.css',\n",
       "  12: 'C:\\\\Users\\\\david_dyn8g78\\\\PycharmProjects\\\\PythonEPUB\\\\demo/temp\\\\0.css',\n",
       "  'item3': '1.css',\n",
       "  13: 'C:\\\\Users\\\\david_dyn8g78\\\\PycharmProjects\\\\PythonEPUB\\\\demo/temp\\\\1.css',\n",
       "  'pg-header': '6081066061422389183_2488-h-0.htm.xhtml',\n",
       "  14: 'C:\\\\Users\\\\david_dyn8g78\\\\PycharmProjects\\\\PythonEPUB\\\\demo/temp\\\\6081066061422389183_2488-h-0.htm.xhtml',\n",
       "  'item4': '6081066061422389183_2488-h-1.htm.xhtml',\n",
       "  15: 'C:\\\\Users\\\\david_dyn8g78\\\\PycharmProjects\\\\PythonEPUB\\\\demo/temp\\\\6081066061422389183_2488-h-1.htm.xhtml',\n",
       "  'item5': '6081066061422389183_2488-h-2.htm.xhtml',\n",
       "  16: 'C:\\\\Users\\\\david_dyn8g78\\\\PycharmProjects\\\\PythonEPUB\\\\demo/temp\\\\6081066061422389183_2488-h-2.htm.xhtml',\n",
       "  'item6': '6081066061422389183_2488-h-3.htm.xhtml',\n",
       "  17: 'C:\\\\Users\\\\david_dyn8g78\\\\PycharmProjects\\\\PythonEPUB\\\\demo/temp\\\\6081066061422389183_2488-h-3.htm.xhtml',\n",
       "  'item7': '6081066061422389183_2488-h-4.htm.xhtml',\n",
       "  18: 'C:\\\\Users\\\\david_dyn8g78\\\\PycharmProjects\\\\PythonEPUB\\\\demo/temp\\\\6081066061422389183_2488-h-4.htm.xhtml',\n",
       "  'item8': '6081066061422389183_2488-h-5.htm.xhtml',\n",
       "  19: 'C:\\\\Users\\\\david_dyn8g78\\\\PycharmProjects\\\\PythonEPUB\\\\demo/temp\\\\6081066061422389183_2488-h-5.htm.xhtml',\n",
       "  'ncx': 'toc.xhtml',\n",
       "  20: 'C:\\\\Users\\\\david_dyn8g78\\\\PycharmProjects\\\\PythonEPUB\\\\demo/temp\\\\toc.xhtml',\n",
       "  'ncx2': 'toc.ncx',\n",
       "  21: 'C:\\\\Users\\\\david_dyn8g78\\\\PycharmProjects\\\\PythonEPUB\\\\demo/temp\\\\toc.ncx',\n",
       "  'coverpage-wrapper': 'wrap0000.xhtml',\n",
       "  22: 'C:\\\\Users\\\\david_dyn8g78\\\\PycharmProjects\\\\PythonEPUB\\\\demo/temp\\\\wrap0000.xhtml'},\n",
       " 'ebook_folder_path': 'C:\\\\Users\\\\david_dyn8g78\\\\PycharmProjects\\\\PythonEPUB\\\\demo/temp',\n",
       " 'ebook_data_folder_path': 'C:\\\\Users\\\\david_dyn8g78\\\\PycharmProjects\\\\PythonEPUB\\\\demo/tempDATA',\n",
       " 'container_file_path': 'C:\\\\Users\\\\david_dyn8g78\\\\PycharmProjects\\\\PythonEPUB\\\\demo/temp\\\\META-INF\\\\container.xml',\n",
       " 'content_file_path': 'C:\\\\Users\\\\david_dyn8g78\\\\PycharmProjects\\\\PythonEPUB\\\\demo/temp\\\\OEBPS/content.opf',\n",
       " 'cover_image_path': 'C:\\\\Users\\\\david_dyn8g78\\\\PycharmProjects\\\\PythonEPUB\\\\demo\\\\temp\\\\OEBPS\\\\3388843439980103376_cover.jpg',\n",
       " 'json_data_file_path': '',\n",
       " 'nav_file_path': '',\n",
       " 'date_added': '2001-01-01',\n",
       " 'date_last_opened': '2024-11-07 15:02:56',\n",
       " 'ebook_filepath': 'epub samples/sample1.epub',\n",
       " 'identifier': 'http://www.gutenberg.org/2488'}"
      ]
     },
     "execution_count": 38,
     "metadata": {},
     "output_type": "execute_result"
    }
   ],
   "execution_count": 38
  },
  {
   "metadata": {
    "ExecuteTime": {
     "end_time": "2024-11-07T14:02:56.842574Z",
     "start_time": "2024-11-07T14:02:56.835444Z"
    }
   },
   "cell_type": "code",
   "source": "ebook.title",
   "id": "b8a8f7576bf98ca3",
   "outputs": [
    {
     "data": {
      "text/plain": [
       "'Twenty Thousand Leagues Under the Seas: An Underwater Tour of the World'"
      ]
     },
     "execution_count": 39,
     "metadata": {},
     "output_type": "execute_result"
    }
   ],
   "execution_count": 39
  },
  {
   "metadata": {
    "ExecuteTime": {
     "end_time": "2024-11-07T14:02:56.904291Z",
     "start_time": "2024-11-07T14:02:56.882593Z"
    }
   },
   "cell_type": "code",
   "source": "ebook.author",
   "id": "a825ceeedff1d82b",
   "outputs": [
    {
     "data": {
      "text/plain": [
       "'Jules Verne'"
      ]
     },
     "execution_count": 40,
     "metadata": {},
     "output_type": "execute_result"
    }
   ],
   "execution_count": 40
  },
  {
   "metadata": {
    "ExecuteTime": {
     "end_time": "2024-11-07T14:02:56.952646Z",
     "start_time": "2024-11-07T14:02:56.945920Z"
    }
   },
   "cell_type": "code",
   "source": "ebook.language",
   "id": "2ee3aa839a89fd70",
   "outputs": [
    {
     "data": {
      "text/plain": [
       "'en'"
      ]
     },
     "execution_count": 41,
     "metadata": {},
     "output_type": "execute_result"
    }
   ],
   "execution_count": 41
  },
  {
   "metadata": {
    "ExecuteTime": {
     "end_time": "2024-11-07T14:02:56.989760Z",
     "start_time": "2024-11-07T14:02:56.974700Z"
    }
   },
   "cell_type": "code",
   "source": "ebook.navigation_data",
   "id": "491b92bd2a2742cd",
   "outputs": [
    {
     "data": {
      "text/plain": [
       "{'id-4755444834398879817': '3388843439980103376_cover.jpg',\n",
       " 0: 'C:\\\\Users\\\\david_dyn8g78\\\\PycharmProjects\\\\PythonEPUB\\\\demo/temp\\\\3388843439980103376_cover.jpg',\n",
       " 'id-545216023831701403': '3388843439980103376_portrait_by_bertrand.jpg',\n",
       " 1: 'C:\\\\Users\\\\david_dyn8g78\\\\PycharmProjects\\\\PythonEPUB\\\\demo/temp\\\\3388843439980103376_portrait_by_bertrand.jpg',\n",
       " 'id-1597760694833143741': '3388843439980103376_ned_land_stayed_at_his_post.jpg',\n",
       " 2: 'C:\\\\Users\\\\david_dyn8g78\\\\PycharmProjects\\\\PythonEPUB\\\\demo/temp\\\\3388843439980103376_ned_land_stayed_at_his_post.jpg',\n",
       " 'id-7819554548645112870': '3388843439980103376_ive_collected_every_one_of_them.jpg',\n",
       " 3: 'C:\\\\Users\\\\david_dyn8g78\\\\PycharmProjects\\\\PythonEPUB\\\\demo/temp\\\\3388843439980103376_ive_collected_every_one_of_them.jpg',\n",
       " 'id-5708237980447882237': '3388843439980103376_we_walked_with_steady_steps.jpg',\n",
       " 4: 'C:\\\\Users\\\\david_dyn8g78\\\\PycharmProjects\\\\PythonEPUB\\\\demo/temp\\\\3388843439980103376_we_walked_with_steady_steps.jpg',\n",
       " 'id-3674060749913333287': '3388843439980103376_the_dugout_canoes_drew_nearer.jpg',\n",
       " 5: 'C:\\\\Users\\\\david_dyn8g78\\\\PycharmProjects\\\\PythonEPUB\\\\demo/temp\\\\3388843439980103376_the_dugout_canoes_drew_nearer.jpg',\n",
       " 'id-7443571070203172316': '3388843439980103376_a_dreadful_battle_was_joined.jpg',\n",
       " 6: 'C:\\\\Users\\\\david_dyn8g78\\\\PycharmProjects\\\\PythonEPUB\\\\demo/temp\\\\3388843439980103376_a_dreadful_battle_was_joined.jpg',\n",
       " 'id-6772777100103817716': '3388843439980103376_the_bay_of_vigo.jpg',\n",
       " 7: 'C:\\\\Users\\\\david_dyn8g78\\\\PycharmProjects\\\\PythonEPUB\\\\demo/temp\\\\3388843439980103376_the_bay_of_vigo.jpg',\n",
       " 'id-2259672157494556075': '3388843439980103376_picturesque_ruins_took_shape.jpg',\n",
       " 8: 'C:\\\\Users\\\\david_dyn8g78\\\\PycharmProjects\\\\PythonEPUB\\\\demo/temp\\\\3388843439980103376_picturesque_ruins_took_shape.jpg',\n",
       " 'id-9041443163246347217': '3388843439980103376_farewell_o_sun_he_called.jpg',\n",
       " 9: 'C:\\\\Users\\\\david_dyn8g78\\\\PycharmProjects\\\\PythonEPUB\\\\demo/temp\\\\3388843439980103376_farewell_o_sun_he_called.jpg',\n",
       " 'id-6528399466404756187': '3388843439980103376_the_poor_fellow_was_done_for.jpg',\n",
       " 10: 'C:\\\\Users\\\\david_dyn8g78\\\\PycharmProjects\\\\PythonEPUB\\\\demo/temp\\\\3388843439980103376_the_poor_fellow_was_done_for.jpg',\n",
       " 'item1': 'pgepub.css',\n",
       " 11: 'C:\\\\Users\\\\david_dyn8g78\\\\PycharmProjects\\\\PythonEPUB\\\\demo/temp\\\\pgepub.css',\n",
       " 'item2': '0.css',\n",
       " 12: 'C:\\\\Users\\\\david_dyn8g78\\\\PycharmProjects\\\\PythonEPUB\\\\demo/temp\\\\0.css',\n",
       " 'item3': '1.css',\n",
       " 13: 'C:\\\\Users\\\\david_dyn8g78\\\\PycharmProjects\\\\PythonEPUB\\\\demo/temp\\\\1.css',\n",
       " 'pg-header': '6081066061422389183_2488-h-0.htm.xhtml',\n",
       " 14: 'C:\\\\Users\\\\david_dyn8g78\\\\PycharmProjects\\\\PythonEPUB\\\\demo/temp\\\\6081066061422389183_2488-h-0.htm.xhtml',\n",
       " 'item4': '6081066061422389183_2488-h-1.htm.xhtml',\n",
       " 15: 'C:\\\\Users\\\\david_dyn8g78\\\\PycharmProjects\\\\PythonEPUB\\\\demo/temp\\\\6081066061422389183_2488-h-1.htm.xhtml',\n",
       " 'item5': '6081066061422389183_2488-h-2.htm.xhtml',\n",
       " 16: 'C:\\\\Users\\\\david_dyn8g78\\\\PycharmProjects\\\\PythonEPUB\\\\demo/temp\\\\6081066061422389183_2488-h-2.htm.xhtml',\n",
       " 'item6': '6081066061422389183_2488-h-3.htm.xhtml',\n",
       " 17: 'C:\\\\Users\\\\david_dyn8g78\\\\PycharmProjects\\\\PythonEPUB\\\\demo/temp\\\\6081066061422389183_2488-h-3.htm.xhtml',\n",
       " 'item7': '6081066061422389183_2488-h-4.htm.xhtml',\n",
       " 18: 'C:\\\\Users\\\\david_dyn8g78\\\\PycharmProjects\\\\PythonEPUB\\\\demo/temp\\\\6081066061422389183_2488-h-4.htm.xhtml',\n",
       " 'item8': '6081066061422389183_2488-h-5.htm.xhtml',\n",
       " 19: 'C:\\\\Users\\\\david_dyn8g78\\\\PycharmProjects\\\\PythonEPUB\\\\demo/temp\\\\6081066061422389183_2488-h-5.htm.xhtml',\n",
       " 'ncx': 'toc.xhtml',\n",
       " 20: 'C:\\\\Users\\\\david_dyn8g78\\\\PycharmProjects\\\\PythonEPUB\\\\demo/temp\\\\toc.xhtml',\n",
       " 'ncx2': 'toc.ncx',\n",
       " 21: 'C:\\\\Users\\\\david_dyn8g78\\\\PycharmProjects\\\\PythonEPUB\\\\demo/temp\\\\toc.ncx',\n",
       " 'coverpage-wrapper': 'wrap0000.xhtml',\n",
       " 22: 'C:\\\\Users\\\\david_dyn8g78\\\\PycharmProjects\\\\PythonEPUB\\\\demo/temp\\\\wrap0000.xhtml'}"
      ]
     },
     "execution_count": 42,
     "metadata": {},
     "output_type": "execute_result"
    }
   ],
   "execution_count": 42
  },
  {
   "metadata": {
    "ExecuteTime": {
     "end_time": "2024-11-07T14:02:57.022115Z",
     "start_time": "2024-11-07T14:02:57.007116Z"
    }
   },
   "cell_type": "code",
   "source": "serialize(ebook, save=True)",
   "id": "98314a214523a7f3",
   "outputs": [
    {
     "data": {
      "text/plain": [
       "'{\"title\": \"Twenty Thousand Leagues Under the Seas: An Underwater Tour of the World\", \"author\": \"Jules Verne\", \"language\": \"en\", \"publisher\": \"\", \"description\": \"\", \"format\": \"epub\", \"filename\": \"sample1.epub\", \"book_position\": \"\", \"book_open_time\": \"\", \"book_close_time\": \"\", \"book_read_time\": \"\", \"book_status\": \"Copyrighted. Read the copyright notice inside this book for details.\", \"StatRecord1\": {}, \"StatRecord2\": {}, \"navigation_data\": {\"id-4755444834398879817\": \"3388843439980103376_cover.jpg\", \"0\": \"C:\\\\\\\\Users\\\\\\\\david_dyn8g78\\\\\\\\PycharmProjects\\\\\\\\PythonEPUB\\\\\\\\demo/temp\\\\\\\\3388843439980103376_cover.jpg\", \"id-545216023831701403\": \"3388843439980103376_portrait_by_bertrand.jpg\", \"1\": \"C:\\\\\\\\Users\\\\\\\\david_dyn8g78\\\\\\\\PycharmProjects\\\\\\\\PythonEPUB\\\\\\\\demo/temp\\\\\\\\3388843439980103376_portrait_by_bertrand.jpg\", \"id-1597760694833143741\": \"3388843439980103376_ned_land_stayed_at_his_post.jpg\", \"2\": \"C:\\\\\\\\Users\\\\\\\\david_dyn8g78\\\\\\\\PycharmProjects\\\\\\\\PythonEPUB\\\\\\\\demo/temp\\\\\\\\3388843439980103376_ned_land_stayed_at_his_post.jpg\", \"id-7819554548645112870\": \"3388843439980103376_ive_collected_every_one_of_them.jpg\", \"3\": \"C:\\\\\\\\Users\\\\\\\\david_dyn8g78\\\\\\\\PycharmProjects\\\\\\\\PythonEPUB\\\\\\\\demo/temp\\\\\\\\3388843439980103376_ive_collected_every_one_of_them.jpg\", \"id-5708237980447882237\": \"3388843439980103376_we_walked_with_steady_steps.jpg\", \"4\": \"C:\\\\\\\\Users\\\\\\\\david_dyn8g78\\\\\\\\PycharmProjects\\\\\\\\PythonEPUB\\\\\\\\demo/temp\\\\\\\\3388843439980103376_we_walked_with_steady_steps.jpg\", \"id-3674060749913333287\": \"3388843439980103376_the_dugout_canoes_drew_nearer.jpg\", \"5\": \"C:\\\\\\\\Users\\\\\\\\david_dyn8g78\\\\\\\\PycharmProjects\\\\\\\\PythonEPUB\\\\\\\\demo/temp\\\\\\\\3388843439980103376_the_dugout_canoes_drew_nearer.jpg\", \"id-7443571070203172316\": \"3388843439980103376_a_dreadful_battle_was_joined.jpg\", \"6\": \"C:\\\\\\\\Users\\\\\\\\david_dyn8g78\\\\\\\\PycharmProjects\\\\\\\\PythonEPUB\\\\\\\\demo/temp\\\\\\\\3388843439980103376_a_dreadful_battle_was_joined.jpg\", \"id-6772777100103817716\": \"3388843439980103376_the_bay_of_vigo.jpg\", \"7\": \"C:\\\\\\\\Users\\\\\\\\david_dyn8g78\\\\\\\\PycharmProjects\\\\\\\\PythonEPUB\\\\\\\\demo/temp\\\\\\\\3388843439980103376_the_bay_of_vigo.jpg\", \"id-2259672157494556075\": \"3388843439980103376_picturesque_ruins_took_shape.jpg\", \"8\": \"C:\\\\\\\\Users\\\\\\\\david_dyn8g78\\\\\\\\PycharmProjects\\\\\\\\PythonEPUB\\\\\\\\demo/temp\\\\\\\\3388843439980103376_picturesque_ruins_took_shape.jpg\", \"id-9041443163246347217\": \"3388843439980103376_farewell_o_sun_he_called.jpg\", \"9\": \"C:\\\\\\\\Users\\\\\\\\david_dyn8g78\\\\\\\\PycharmProjects\\\\\\\\PythonEPUB\\\\\\\\demo/temp\\\\\\\\3388843439980103376_farewell_o_sun_he_called.jpg\", \"id-6528399466404756187\": \"3388843439980103376_the_poor_fellow_was_done_for.jpg\", \"10\": \"C:\\\\\\\\Users\\\\\\\\david_dyn8g78\\\\\\\\PycharmProjects\\\\\\\\PythonEPUB\\\\\\\\demo/temp\\\\\\\\3388843439980103376_the_poor_fellow_was_done_for.jpg\", \"item1\": \"pgepub.css\", \"11\": \"C:\\\\\\\\Users\\\\\\\\david_dyn8g78\\\\\\\\PycharmProjects\\\\\\\\PythonEPUB\\\\\\\\demo/temp\\\\\\\\pgepub.css\", \"item2\": \"0.css\", \"12\": \"C:\\\\\\\\Users\\\\\\\\david_dyn8g78\\\\\\\\PycharmProjects\\\\\\\\PythonEPUB\\\\\\\\demo/temp\\\\\\\\0.css\", \"item3\": \"1.css\", \"13\": \"C:\\\\\\\\Users\\\\\\\\david_dyn8g78\\\\\\\\PycharmProjects\\\\\\\\PythonEPUB\\\\\\\\demo/temp\\\\\\\\1.css\", \"pg-header\": \"6081066061422389183_2488-h-0.htm.xhtml\", \"14\": \"C:\\\\\\\\Users\\\\\\\\david_dyn8g78\\\\\\\\PycharmProjects\\\\\\\\PythonEPUB\\\\\\\\demo/temp\\\\\\\\6081066061422389183_2488-h-0.htm.xhtml\", \"item4\": \"6081066061422389183_2488-h-1.htm.xhtml\", \"15\": \"C:\\\\\\\\Users\\\\\\\\david_dyn8g78\\\\\\\\PycharmProjects\\\\\\\\PythonEPUB\\\\\\\\demo/temp\\\\\\\\6081066061422389183_2488-h-1.htm.xhtml\", \"item5\": \"6081066061422389183_2488-h-2.htm.xhtml\", \"16\": \"C:\\\\\\\\Users\\\\\\\\david_dyn8g78\\\\\\\\PycharmProjects\\\\\\\\PythonEPUB\\\\\\\\demo/temp\\\\\\\\6081066061422389183_2488-h-2.htm.xhtml\", \"item6\": \"6081066061422389183_2488-h-3.htm.xhtml\", \"17\": \"C:\\\\\\\\Users\\\\\\\\david_dyn8g78\\\\\\\\PycharmProjects\\\\\\\\PythonEPUB\\\\\\\\demo/temp\\\\\\\\6081066061422389183_2488-h-3.htm.xhtml\", \"item7\": \"6081066061422389183_2488-h-4.htm.xhtml\", \"18\": \"C:\\\\\\\\Users\\\\\\\\david_dyn8g78\\\\\\\\PycharmProjects\\\\\\\\PythonEPUB\\\\\\\\demo/temp\\\\\\\\6081066061422389183_2488-h-4.htm.xhtml\", \"item8\": \"6081066061422389183_2488-h-5.htm.xhtml\", \"19\": \"C:\\\\\\\\Users\\\\\\\\david_dyn8g78\\\\\\\\PycharmProjects\\\\\\\\PythonEPUB\\\\\\\\demo/temp\\\\\\\\6081066061422389183_2488-h-5.htm.xhtml\", \"ncx\": \"toc.xhtml\", \"20\": \"C:\\\\\\\\Users\\\\\\\\david_dyn8g78\\\\\\\\PycharmProjects\\\\\\\\PythonEPUB\\\\\\\\demo/temp\\\\\\\\toc.xhtml\", \"ncx2\": \"toc.ncx\", \"21\": \"C:\\\\\\\\Users\\\\\\\\david_dyn8g78\\\\\\\\PycharmProjects\\\\\\\\PythonEPUB\\\\\\\\demo/temp\\\\\\\\toc.ncx\", \"coverpage-wrapper\": \"wrap0000.xhtml\", \"22\": \"C:\\\\\\\\Users\\\\\\\\david_dyn8g78\\\\\\\\PycharmProjects\\\\\\\\PythonEPUB\\\\\\\\demo/temp\\\\\\\\wrap0000.xhtml\"}, \"ebook_folder_path\": \"C:\\\\\\\\Users\\\\\\\\david_dyn8g78\\\\\\\\PycharmProjects\\\\\\\\PythonEPUB\\\\\\\\demo/temp\", \"ebook_data_folder_path\": \"C:\\\\\\\\Users\\\\\\\\david_dyn8g78\\\\\\\\PycharmProjects\\\\\\\\PythonEPUB\\\\\\\\demo/tempDATA\", \"container_file_path\": \"C:\\\\\\\\Users\\\\\\\\david_dyn8g78\\\\\\\\PycharmProjects\\\\\\\\PythonEPUB\\\\\\\\demo/temp\\\\\\\\META-INF\\\\\\\\container.xml\", \"content_file_path\": \"C:\\\\\\\\Users\\\\\\\\david_dyn8g78\\\\\\\\PycharmProjects\\\\\\\\PythonEPUB\\\\\\\\demo/temp\\\\\\\\OEBPS/content.opf\", \"cover_image_path\": \"C:\\\\\\\\Users\\\\\\\\david_dyn8g78\\\\\\\\PycharmProjects\\\\\\\\PythonEPUB\\\\\\\\demo\\\\\\\\temp\\\\\\\\OEBPS\\\\\\\\3388843439980103376_cover.jpg\", \"json_data_file_path\": \"\", \"nav_file_path\": \"\", \"date_added\": \"2001-01-01\", \"date_last_opened\": \"2024-11-07 15:02:56\"}'"
      ]
     },
     "execution_count": 43,
     "metadata": {},
     "output_type": "execute_result"
    }
   ],
   "execution_count": 43
  }
 ],
 "metadata": {
  "kernelspec": {
   "display_name": "Python 3 (ipykernel)",
   "language": "python",
   "name": "python3"
  },
  "language_info": {
   "codemirror_mode": {
    "name": "ipython",
    "version": 2
   },
   "file_extension": ".py",
   "mimetype": "text/x-python",
   "name": "python",
   "nbconvert_exporter": "python",
   "pygments_lexer": "ipython2",
   "version": "2.7.6"
  }
 },
 "nbformat": 4,
 "nbformat_minor": 5
}
